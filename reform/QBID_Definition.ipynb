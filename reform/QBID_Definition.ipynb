{
 "cells": [
  {
   "cell_type": "markdown",
   "id": "6f3de8f7-0162-4469-91d0-1fe40a9c7aef",
   "metadata": {},
   "source": [
    "# QBID under TCJA"
   ]
  },
  {
   "cell_type": "markdown",
   "id": "cf43455f-4bfa-4252-ae1d-30277203d4df",
   "metadata": {},
   "source": [
    "## Key Quantities for Section 199A\n",
    "\n",
    "Let:\n",
    "\n",
    "- $ \\text{QBI} $: Qualified Business Income — net income from a U.S. trade or business\n",
    "- $ W $: W-2 wages paid\n",
    "- $ P $: UBIA (Unadjusted Basis Immediately after Acquisition) of qualified property\n",
    "- $\\text{WPA} = \\max \\left( 0.5 \\cdot W,\\ 0.25 \\cdot W + 0.025 \\cdot P \\right)$\n",
    "- $ \\theta_{\\max} $: maximum deduction rate (typically 0.20)\n",
    "- $ T $: taxable income  \n",
    "- $ G $: net capital gain  \n",
    "- $ \\text{MTI} = T - G $: Modified Taxable Income  \n",
    "- $ \\tau $: income threshold  \n",
    "- $ \\ell $: phase-in range  \n",
    "- $ p = \\min \\left( 1,\\ \\max \\left( 0,\\ \\frac{T - \\tau}{\\ell} \\right) \\right) $: proportion through the phase-in  \n",
    "\n"
   ]
  },
  {
   "cell_type": "markdown",
   "id": "dd42adc5-47a3-49fe-95bf-af1d6ffc3b1b",
   "metadata": {},
   "source": [
    "## The Sum Described in (1)(A)\n",
    "\n",
    "The internal limitation described in Section 199A(b)(2)(B)(i)(I) is:\n",
    "\n",
    "$$\n",
    "S^{(1)(A)} = \\min \\left( \\theta_{\\max} \\cdot \\text{QBI},\\ \\text{WPA} \\right)\n",
    "$$\n"
   ]
  },
  {
   "cell_type": "markdown",
   "id": "2f8144a6-8167-41fb-afeb-07f3fa1769a4",
   "metadata": {},
   "source": [
    "## non-SSTB Preliminary Deduction (Before MTI Cap)\n",
    "\n",
    "Let \\( D_{\\text{pre}} \\) be the preliminary deduction before applying the MTI limitation:\n",
    "\n",
    "$$\n",
    "D_{\\text{pre}} =\n",
    "\\begin{cases}\n",
    "\\theta_{\\max} \\cdot \\text{QBI}, & \\text{if } T \\leq \\tau \\\\\\\\[12pt]\n",
    "\\theta_{\\max} \\cdot \\text{QBI} - p \\cdot \\left( \\theta_{\\max} \\cdot \\text{QBI} - \\text{WPA} \\right), & \\text{if } \\tau < T < \\tau + \\ell \\\\\\\\[12pt]\n",
    "\\text{WPA}, & \\text{if } T \\geq \\tau + \\ell\n",
    "\\end{cases}\n",
    "$$\n",
    "\n"
   ]
  },
  {
   "cell_type": "markdown",
   "id": "77769913-50cd-4faa-8eb4-612bfdef4ca1",
   "metadata": {},
   "source": [
    "## SSTB Preliminary Deduction (Before MTI Cap)\n",
    "\n",
    "Let \\( D_{\\text{pre}} \\) be the preliminary deduction before applying the MTI limitation:\n",
    "\n",
    "$$\n",
    "D_{\\text{pre}} =\n",
    "\\begin{cases}\n",
    "\\theta_{\\max} \\cdot \\text{QBI}, & \\text{if } T \\leq \\tau \\\\\\\\[12pt]\n",
    "(1 - p) \\cdot \\min \\left( \\theta_{\\max} \\cdot \\text{QBI},\\ \\text{WPA} \\right), & \\text{if } \\tau < T < \\tau + \\ell \\\\\\\\[12pt]\n",
    "0, & \\text{if } T \\geq \\tau + \\ell\n",
    "\\end{cases}\n",
    "$$\n"
   ]
  },
  {
   "cell_type": "markdown",
   "id": "cfc3feb7-320f-4fa8-86d1-336df8308735",
   "metadata": {},
   "source": [
    "## Final Deduction (After MTI Cap)\n",
    "\n",
    "The final deduction is the lesser of the preliminary deduction and the MTI cap:\n",
    "\n",
    "$$\n",
    "\\text{Deduction} = \\min \\left( D_{\\text{pre}},\\ \\theta_{\\max} \\cdot \\text{MTI} \\right)\n",
    "$$"
   ]
  },
  {
   "cell_type": "markdown",
   "id": "854eb3db-ea65-49bd-9d06-2e005163109c",
   "metadata": {},
   "source": [
    "# QBID under H.R. 1\n",
    "\n",
    "In addition to the other parameters, let:\n",
    "\n",
    "- $r$: ramp-down rate (75¢ of deduction lost per $1 above threshold τ)\n",
    "\n",
    "---\n",
    "\n",
    "### Non-SSTB Deduction\n",
    "\n",
    "**Preliminary deduction (before MTI cap):**\n",
    "\n",
    "$$\n",
    "D_{\\text{pre}} =\n",
    "\\begin{cases}\n",
    "\\theta_{\\max} \\cdot \\text{QBI}, & \\text{if } T \\leq \\tau \\\\\\\\\n",
    "\\max \\left( \\text{WPA},\\ \\theta_{\\max} \\cdot \\text{QBI} - r \\cdot (T - \\tau) \\right), & \\text{if } T > \\tau\n",
    "\\end{cases}\n",
    "$$\n",
    "\n",
    "---\n",
    "\n",
    "### SSTB Deduction\n",
    "\n",
    "**Preliminary deduction (before MTI cap):**\n",
    "\n",
    "$$\n",
    "D_{\\text{pre}} =\n",
    "\\begin{cases}\n",
    "\\theta_{\\max} \\cdot \\text{QBI}, & \\text{if } T \\leq \\tau \\\\\\\\\n",
    "\\max \\left( 0,\\ \\theta_{\\max} \\cdot \\text{QBI} - r \\cdot (T - \\tau) \\right), & \\text{if } T > \\tau\n",
    "\\end{cases}\n",
    "$$"
   ]
  },
  {
   "cell_type": "code",
   "execution_count": null,
   "id": "2a0490ef-037f-4644-8010-12d2e811101e",
   "metadata": {},
   "outputs": [],
   "source": [
    "#"
   ]
  },
  {
   "cell_type": "code",
   "execution_count": null,
   "id": "4c6f83d5-eb74-4fd0-8ba7-7eb355e111cc",
   "metadata": {},
   "outputs": [],
   "source": []
  }
 ],
 "metadata": {
  "kernelspec": {
   "display_name": "Python 3 (ipykernel)",
   "language": "python",
   "name": "python3"
  },
  "language_info": {
   "codemirror_mode": {
    "name": "ipython",
    "version": 3
   },
   "file_extension": ".py",
   "mimetype": "text/x-python",
   "name": "python",
   "nbconvert_exporter": "python",
   "pygments_lexer": "ipython3",
   "version": "3.11.12"
  }
 },
 "nbformat": 4,
 "nbformat_minor": 5
}
